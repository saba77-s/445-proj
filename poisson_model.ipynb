{
 "cells": [
  {
   "cell_type": "code",
   "execution_count": 113,
   "metadata": {},
   "outputs": [],
   "source": [
    "from read_epi import data\n",
    "from scipy import stats\n",
    "from scipy.optimize import curve_fit\n",
    "import numpy as np\n",
    "import matplotlib.pyplot as plt"
   ]
  },
  {
   "cell_type": "code",
   "execution_count": 114,
   "metadata": {},
   "outputs": [],
   "source": [
    "data = data.to_numpy()\n",
    "N, D = data.shape"
   ]
  },
  {
   "cell_type": "code",
   "execution_count": 115,
   "metadata": {},
   "outputs": [
    {
     "data": {
      "image/png": "[encoded data removed]",
      "text/plain": [
       "<Figure size 432x288 with 1 Axes>"
      ]
     },
     "metadata": {
      "needs_background": "light"
     },
     "output_type": "display_data"
    }
   ],
   "source": [
    "# just plotting to see if poisson even makes sense (it does!)\n",
    "his = plt.hist(data[0,2:], bins=\"auto\", density=True)"
   ]
  },
  {
   "cell_type": "code",
   "execution_count": 116,
   "metadata": {},
   "outputs": [
    {
     "ename": "TypeError",
     "evalue": "ufunc 'isnan' not supported for the input types, and the inputs could not be safely coerced to any supported types according to the casting rule ''safe''",
     "output_type": "error",
     "traceback": [
      "\u001b[0;31m---------------------------------------------------------------------------\u001b[0m",
      "\u001b[0;31mTypeError\u001b[0m                                 Traceback (most recent call last)",
      "\u001b[1;32m/Users/carlosvasquez/Desktop/University/Year Three/Term 2/CPSC 445/project/445-proj/poisson_model.ipynb Cell 4\u001b[0m in \u001b[0;36m<cell line: 7>\u001b[0;34m()\u001b[0m\n\u001b[1;32m      <a href='vscode-notebook-cell:/Users/carlosvasquez/Desktop/University/Year%20Three/Term%202/CPSC%20445/project/445-proj/poisson_model.ipynb#ch0000009?line=3'>4</a>\u001b[0m     \u001b[39mreturn\u001b[39;00m stats\u001b[39m.\u001b[39mpoisson\u001b[39m.\u001b[39mpmf(k, lam)\n\u001b[1;32m      <a href='vscode-notebook-cell:/Users/carlosvasquez/Desktop/University/Year%20Three/Term%202/CPSC%20445/project/445-proj/poisson_model.ipynb#ch0000009?line=4'>5</a>\u001b[0m params, _ \u001b[39m=\u001b[39m curve_fit(fit_model, bin_centers, his[\u001b[39m0\u001b[39m])\n\u001b[0;32m----> <a href='vscode-notebook-cell:/Users/carlosvasquez/Desktop/University/Year%20Three/Term%202/CPSC%20445/project/445-proj/poisson_model.ipynb#ch0000009?line=6'>7</a>\u001b[0m plt\u001b[39m.\u001b[39mplot(data[\u001b[39m0\u001b[39m,\u001b[39m2\u001b[39m:], fit_model(data[\u001b[39m0\u001b[39;49m,\u001b[39m2\u001b[39;49m:], \u001b[39m*\u001b[39;49mparams))\n\u001b[1;32m      <a href='vscode-notebook-cell:/Users/carlosvasquez/Desktop/University/Year%20Three/Term%202/CPSC%20445/project/445-proj/poisson_model.ipynb#ch0000009?line=7'>8</a>\u001b[0m plt\u001b[39m.\u001b[39mshow()\n",
      "\u001b[1;32m/Users/carlosvasquez/Desktop/University/Year Three/Term 2/CPSC 445/project/445-proj/poisson_model.ipynb Cell 4\u001b[0m in \u001b[0;36mfit_model\u001b[0;34m(k, lam)\u001b[0m\n\u001b[1;32m      <a href='vscode-notebook-cell:/Users/carlosvasquez/Desktop/University/Year%20Three/Term%202/CPSC%20445/project/445-proj/poisson_model.ipynb#ch0000009?line=2'>3</a>\u001b[0m \u001b[39mdef\u001b[39;00m \u001b[39mfit_model\u001b[39m(k, lam):\n\u001b[0;32m----> <a href='vscode-notebook-cell:/Users/carlosvasquez/Desktop/University/Year%20Three/Term%202/CPSC%20445/project/445-proj/poisson_model.ipynb#ch0000009?line=3'>4</a>\u001b[0m     \u001b[39mreturn\u001b[39;00m stats\u001b[39m.\u001b[39;49mpoisson\u001b[39m.\u001b[39;49mpmf(k, lam)\n",
      "File \u001b[0;32m/Library/Frameworks/Python.framework/Versions/3.10/lib/python3.10/site-packages/scipy/stats/_distn_infrastructure.py:3181\u001b[0m, in \u001b[0;36mrv_discrete.pmf\u001b[0;34m(self, k, *args, **kwds)\u001b[0m\n\u001b[1;32m   3179\u001b[0m cond \u001b[39m=\u001b[39m cond0 \u001b[39m&\u001b[39m cond1\n\u001b[1;32m   3180\u001b[0m output \u001b[39m=\u001b[39m zeros(shape(cond), \u001b[39m'\u001b[39m\u001b[39md\u001b[39m\u001b[39m'\u001b[39m)\n\u001b[0;32m-> 3181\u001b[0m place(output, (\u001b[39m1\u001b[39m\u001b[39m-\u001b[39mcond0) \u001b[39m+\u001b[39m np\u001b[39m.\u001b[39;49misnan(k), \u001b[39mself\u001b[39m\u001b[39m.\u001b[39mbadvalue)\n\u001b[1;32m   3182\u001b[0m \u001b[39mif\u001b[39;00m np\u001b[39m.\u001b[39many(cond):\n\u001b[1;32m   3183\u001b[0m     goodargs \u001b[39m=\u001b[39m argsreduce(cond, \u001b[39m*\u001b[39m((k,)\u001b[39m+\u001b[39margs))\n",
      "\u001b[0;31mTypeError\u001b[0m: ufunc 'isnan' not supported for the input types, and the inputs could not be safely coerced to any supported types according to the casting rule ''safe''"
     ]
    }
   ],
   "source": [
    "# model\n",
    "bin_centers = 0.5 * (his[1][1:] + his[1][:-1])\n",
    "def fit_model(k, lam):\n",
    "    return stats.poisson.pmf(k, lam)\n",
    "params, _ = curve_fit(fit_model, bin_centers, his[0])\n",
    "\n",
    "plt.plot(data[0,2:], fit_model(data[0,2:], *params))\n",
    "plt.show()"
   ]
  },
  {
   "cell_type": "code",
   "execution_count": 124,
   "metadata": {},
   "outputs": [
    {
     "data": {
      "text/plain": [
       "0.0"
      ]
     },
     "execution_count": 124,
     "metadata": {},
     "output_type": "execute_result"
    }
   ],
   "source": [
    "stats.poisson.pmf(data[0,2:][100], 1)"
   ]
  },
  {
   "cell_type": "code",
   "execution_count": null,
   "metadata": {},
   "outputs": [],
   "source": []
  }
 ],
 "metadata": {
  "kernelspec": {
   "display_name": "Python 3.10.5 64-bit",
   "language": "python",
   "name": "python3"
  },
  "language_info": {
   "codemirror_mode": {
    "name": "ipython",
    "version": 3
   },
   "file_extension": ".py",
   "mimetype": "text/x-python",
   "name": "python",
   "nbconvert_exporter": "python",
   "pygments_lexer": "ipython3",
   "version": "3.10.5"
  },
  "orig_nbformat": 4,
  "vscode": {
   "interpreter": {
    "hash": "7e1998ff7f8aa20ada591c520b972326324e5ea05489af9e422744c7c09f6dad"
   }
  }
 },
 "nbformat": 4,
 "nbformat_minor": 2
}
